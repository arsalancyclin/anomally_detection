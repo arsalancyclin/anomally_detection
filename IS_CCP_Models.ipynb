{
  "cells": [
    {
      "cell_type": "markdown",
      "metadata": {},
      "source": [
        "# Data Loading"
      ]
    },
    {
      "cell_type": "code",
      "execution_count": 2,
      "metadata": {
        "colab": {
          "base_uri": "https://localhost:8080/"
        },
        "id": "Wp7aRUWWXvdW",
        "outputId": "157c60db-a727-41f5-f765-4c4592178d57"
      },
      "outputs": [
        {
          "name": "stderr",
          "output_type": "stream",
          "text": [
            "c:\\Users\\shehr\\AppData\\Local\\Programs\\Python\\Python312\\Lib\\site-packages\\openpyxl\\worksheet\\_reader.py:329: UserWarning: Unknown extension is not supported and will be removed\n",
            "  warn(msg)\n"
          ]
        },
        {
          "name": "stdout",
          "output_type": "stream",
          "text": [
            "                Timestamp    FIT101    LIT101  MV101  P101  P102    AIT201  \\\n",
            "0   22/12/2015 4:00:00 PM  2.470294  261.5804      2     2     1  244.3284   \n",
            "1   22/12/2015 4:00:01 PM  2.457163  261.1879      2     2     1  244.3284   \n",
            "2   22/12/2015 4:00:02 PM  2.439548  260.9131      2     2     1  244.3284   \n",
            "3   22/12/2015 4:00:03 PM  2.428338  260.2850      2     2     1  244.3284   \n",
            "4   22/12/2015 4:00:04 PM  2.424815  259.8925      2     2     1  244.4245   \n",
            "\n",
            "    AIT202   AIT203    FIT201  ...  P501  P502    PIT501  PIT502    PIT503  \\\n",
            "0  8.19008  306.101  2.471278  ...     1     1  10.02948     0.0  4.277749   \n",
            "1  8.19008  306.101  2.468587  ...     1     1  10.02948     0.0  4.277749   \n",
            "2  8.19008  306.101  2.467305  ...     1     1  10.02948     0.0  4.277749   \n",
            "3  8.19008  306.101  2.466536  ...     1     1  10.02948     0.0  4.277749   \n",
            "4  8.19008  306.101  2.466536  ...     1     1  10.02948     0.0  4.277749   \n",
            "\n",
            "     FIT601  P601  P602  P603  Normal/Attack  \n",
            "0  0.000256     1     1     1         Normal  \n",
            "1  0.000256     1     1     1         Normal  \n",
            "2  0.000256     1     1     1         Normal  \n",
            "3  0.000256     1     1     1         Normal  \n",
            "4  0.000256     1     1     1         Normal  \n",
            "\n",
            "[5 rows x 53 columns]\n"
          ]
        }
      ],
      "source": [
        "import pandas as pd\n",
        "\n",
        "# File path to the CSV file\n",
        "file_path = 'SWaT_Dataset_Normal_v0.xlsx'\n",
        "\n",
        "# Read the CSV file, skipping the first row and using the second row as the header\n",
        "data = pd.read_excel(file_path, skiprows=1)\n",
        "\n",
        "# Display the first few rows to verify\n",
        "print(data.head())\n"
      ]
    },
    {
      "cell_type": "code",
      "execution_count": 3,
      "metadata": {
        "colab": {
          "base_uri": "https://localhost:8080/"
        },
        "id": "fo3ardEPAmJE",
        "outputId": "d6aede25-71d9-4879-9d5c-ed5ca2f29ad5"
      },
      "outputs": [
        {
          "data": {
            "text/plain": [
              "(496800, 53)"
            ]
          },
          "execution_count": 3,
          "metadata": {},
          "output_type": "execute_result"
        }
      ],
      "source": [
        "data.shape"
      ]
    },
    {
      "cell_type": "code",
      "execution_count": 4,
      "metadata": {
        "colab": {
          "base_uri": "https://localhost:8080/"
        },
        "id": "m3tZtn51Att0",
        "outputId": "f55a6098-f09f-4df3-db7d-1a8814446036"
      },
      "outputs": [
        {
          "name": "stderr",
          "output_type": "stream",
          "text": [
            "c:\\Users\\shehr\\AppData\\Local\\Programs\\Python\\Python312\\Lib\\site-packages\\openpyxl\\worksheet\\_reader.py:329: UserWarning: Unknown extension is not supported and will be removed\n",
            "  warn(msg)\n"
          ]
        },
        {
          "name": "stdout",
          "output_type": "stream",
          "text": [
            "                 Timestamp    FIT101    LIT101   MV101  P101  P102    AIT201  \\\n",
            "0   28/12/2015 10:00:00 AM  2.427057  522.8467       2     2     1  262.0161   \n",
            "1   28/12/2015 10:00:01 AM  2.446274  522.8860       2     2     1  262.0161   \n",
            "2   28/12/2015 10:00:02 AM  2.489191  522.8467       2     2     1  262.0161   \n",
            "3   28/12/2015 10:00:03 AM  2.534350  522.9645       2     2     1  262.0161   \n",
            "4   28/12/2015 10:00:04 AM  2.569260  523.4748       2     2     1  262.0161   \n",
            "\n",
            "     AIT202    AIT203    FIT201  ...  P501  P502    PIT501    PIT502  \\\n",
            "0  8.396437  328.6337  2.445391  ...     2     1  250.8652  1.649953   \n",
            "1  8.396437  328.6337  2.445391  ...     2     1  250.8652  1.649953   \n",
            "2  8.394514  328.6337  2.442316  ...     2     1  250.8812  1.649953   \n",
            "3  8.394514  328.6337  2.442316  ...     2     1  250.8812  1.649953   \n",
            "4  8.394514  328.6337  2.443085  ...     2     1  250.8812  1.649953   \n",
            "\n",
            "     PIT503    FIT601  P601  P602  P603  Normal/Attack  \n",
            "0  189.5988  0.000128     1     1     1         Normal  \n",
            "1  189.6789  0.000128     1     1     1         Normal  \n",
            "2  189.6789  0.000128     1     1     1         Normal  \n",
            "3  189.6148  0.000128     1     1     1         Normal  \n",
            "4  189.5027  0.000128     1     1     1         Normal  \n",
            "\n",
            "[5 rows x 53 columns]\n"
          ]
        }
      ],
      "source": [
        "# File path to the CSV file\n",
        "file_path = 'SWaT_Dataset_Attack_v0.xlsx'\n",
        "\n",
        "# Read the CSV file, skipping the first row and using the second row as the header\n",
        "data2 = pd.read_excel(file_path, skiprows=1)\n",
        "\n",
        "# Display the first few rows to verify\n",
        "print(data2.head())\n",
        "\n",
        "#attack = pd.read_excel('/content/drive/MyDrive/SWaT_Dataset_Attack_v0.xlsx')"
      ]
    },
    {
      "cell_type": "code",
      "execution_count": 5,
      "metadata": {
        "colab": {
          "base_uri": "https://localhost:8080/"
        },
        "id": "PYD8EMhcAtrP",
        "outputId": "df031437-e712-411a-d7cd-4be7edfb33a9"
      },
      "outputs": [
        {
          "data": {
            "text/plain": [
              "(449919, 53)"
            ]
          },
          "execution_count": 5,
          "metadata": {},
          "output_type": "execute_result"
        }
      ],
      "source": [
        "data2.shape"
      ]
    },
    {
      "cell_type": "markdown",
      "metadata": {},
      "source": [
        "# Data Merging"
      ]
    },
    {
      "cell_type": "code",
      "execution_count": 6,
      "metadata": {
        "id": "fDdpCGDNAtoo"
      },
      "outputs": [],
      "source": [
        "data3 = pd.concat([data, data2])"
      ]
    },
    {
      "cell_type": "code",
      "execution_count": 7,
      "metadata": {
        "colab": {
          "base_uri": "https://localhost:8080/"
        },
        "id": "LQ6xIf4UAtl_",
        "outputId": "dc6aca5c-9280-4ed6-9253-d3f21cfdb624"
      },
      "outputs": [
        {
          "data": {
            "text/plain": [
              "(946719, 60)"
            ]
          },
          "execution_count": 7,
          "metadata": {},
          "output_type": "execute_result"
        }
      ],
      "source": [
        "data3.shape"
      ]
    },
    {
      "cell_type": "code",
      "execution_count": 8,
      "metadata": {
        "colab": {
          "base_uri": "https://localhost:8080/"
        },
        "id": "rMgTuN8qAtjE",
        "outputId": "3c3df221-3834-4ce4-e5e4-ef457b3d33f7"
      },
      "outputs": [
        {
          "name": "stdout",
          "output_type": "stream",
          "text": [
            "<class 'pandas.core.frame.DataFrame'>\n",
            "Index: 946719 entries, 0 to 449918\n",
            "Data columns (total 60 columns):\n",
            " #   Column         Non-Null Count   Dtype  \n",
            "---  ------         --------------   -----  \n",
            " 0    Timestamp     946719 non-null  object \n",
            " 1   FIT101         946719 non-null  float64\n",
            " 2   LIT101         946719 non-null  float64\n",
            " 3   MV101          496800 non-null  float64\n",
            " 4   P101           946719 non-null  int64  \n",
            " 5   P102           946719 non-null  int64  \n",
            " 6   AIT201         496800 non-null  float64\n",
            " 7   AIT202         946719 non-null  float64\n",
            " 8   AIT203         946719 non-null  float64\n",
            " 9   FIT201         946719 non-null  float64\n",
            " 10  MV201          496800 non-null  float64\n",
            " 11  P201           496800 non-null  float64\n",
            " 12  P202           496800 non-null  float64\n",
            " 13  P203           946719 non-null  int64  \n",
            " 14  P204           496800 non-null  float64\n",
            " 15  P205           946719 non-null  int64  \n",
            " 16  P206           946719 non-null  int64  \n",
            " 17  DPIT301        946719 non-null  float64\n",
            " 18  FIT301         946719 non-null  float64\n",
            " 19  LIT301         946719 non-null  float64\n",
            " 20  MV301          946719 non-null  int64  \n",
            " 21  MV302          946719 non-null  int64  \n",
            " 22  MV303          496800 non-null  float64\n",
            " 23  MV304          946719 non-null  int64  \n",
            " 24  P301           946719 non-null  int64  \n",
            " 25  P302           946719 non-null  int64  \n",
            " 26  AIT401         946719 non-null  float64\n",
            " 27  AIT402         946719 non-null  float64\n",
            " 28  FIT401         946719 non-null  float64\n",
            " 29  LIT401         946719 non-null  float64\n",
            " 30  P401           946719 non-null  int64  \n",
            " 31  P402           946719 non-null  int64  \n",
            " 32  P403           946719 non-null  int64  \n",
            " 33  P404           946719 non-null  int64  \n",
            " 34  UV401          946719 non-null  int64  \n",
            " 35  AIT501         946719 non-null  float64\n",
            " 36  AIT502         946719 non-null  float64\n",
            " 37  AIT503         946719 non-null  float64\n",
            " 38  AIT504         946719 non-null  float64\n",
            " 39  FIT501         946719 non-null  float64\n",
            " 40  FIT502         946719 non-null  float64\n",
            " 41  FIT503         946719 non-null  float64\n",
            " 42  FIT504         946719 non-null  float64\n",
            " 43  P501           946719 non-null  int64  \n",
            " 44  P502           946719 non-null  int64  \n",
            " 45  PIT501         946719 non-null  float64\n",
            " 46  PIT502         946719 non-null  float64\n",
            " 47  PIT503         946719 non-null  float64\n",
            " 48  FIT601         946719 non-null  float64\n",
            " 49  P601           946719 non-null  int64  \n",
            " 50  P602           946719 non-null  int64  \n",
            " 51  P603           946719 non-null  int64  \n",
            " 52  Normal/Attack  946719 non-null  object \n",
            " 53   MV101         449919 non-null  float64\n",
            " 54   AIT201        449919 non-null  float64\n",
            " 55   MV201         449919 non-null  float64\n",
            " 56   P201          449919 non-null  float64\n",
            " 57   P202          449919 non-null  float64\n",
            " 58   P204          449919 non-null  float64\n",
            " 59   MV303         449919 non-null  float64\n",
            "dtypes: float64(38), int64(20), object(2)\n",
            "memory usage: 440.6+ MB\n"
          ]
        }
      ],
      "source": [
        "data3.info()"
      ]
    },
    {
      "cell_type": "code",
      "execution_count": 9,
      "metadata": {
        "colab": {
          "base_uri": "https://localhost:8080/"
        },
        "id": "X4MRk-QkAtgg",
        "outputId": "0303abdb-615d-4e5b-bd41-2630d26aefbf"
      },
      "outputs": [
        {
          "name": "stdout",
          "output_type": "stream",
          "text": [
            "Index([' Timestamp', 'FIT101', 'LIT101', 'MV101', 'P101', 'P102', 'AIT201',\n",
            "       'AIT202', 'AIT203', 'FIT201', 'MV201', 'P201', 'P202', 'P203', 'P204',\n",
            "       'P205', 'P206', 'DPIT301', 'FIT301', 'LIT301', 'MV301', 'MV302',\n",
            "       'MV303', 'MV304', 'P301', 'P302', 'AIT401', 'AIT402', 'FIT401',\n",
            "       'LIT401', 'P401', 'P402', 'P403', 'P404', 'UV401', 'AIT501', 'AIT502',\n",
            "       'AIT503', 'AIT504', 'FIT501', 'FIT502', 'FIT503', 'FIT504', 'P501',\n",
            "       'P502', 'PIT501', 'PIT502', 'PIT503', 'FIT601', 'P601', 'P602', 'P603',\n",
            "       'Normal/Attack'],\n",
            "      dtype='object')\n"
          ]
        }
      ],
      "source": [
        "print(data.columns)\n"
      ]
    },
    {
      "cell_type": "code",
      "execution_count": 10,
      "metadata": {
        "colab": {
          "base_uri": "https://localhost:8080/"
        },
        "id": "nn50qK7RAteE",
        "outputId": "76f5aa33-8096-4e7d-c264-f3f8fad71e22"
      },
      "outputs": [
        {
          "name": "stdout",
          "output_type": "stream",
          "text": [
            "Index([' Timestamp', 'FIT101', 'LIT101', ' MV101', 'P101', 'P102', ' AIT201',\n",
            "       'AIT202', 'AIT203', 'FIT201', ' MV201', ' P201', ' P202', 'P203',\n",
            "       ' P204', 'P205', 'P206', 'DPIT301', 'FIT301', 'LIT301', 'MV301',\n",
            "       'MV302', ' MV303', 'MV304', 'P301', 'P302', 'AIT401', 'AIT402',\n",
            "       'FIT401', 'LIT401', 'P401', 'P402', 'P403', 'P404', 'UV401', 'AIT501',\n",
            "       'AIT502', 'AIT503', 'AIT504', 'FIT501', 'FIT502', 'FIT503', 'FIT504',\n",
            "       'P501', 'P502', 'PIT501', 'PIT502', 'PIT503', 'FIT601', 'P601', 'P602',\n",
            "       'P603', 'Normal/Attack'],\n",
            "      dtype='object')\n"
          ]
        }
      ],
      "source": [
        "print(data2.columns)"
      ]
    },
    {
      "cell_type": "code",
      "execution_count": 11,
      "metadata": {
        "colab": {
          "base_uri": "https://localhost:8080/"
        },
        "id": "ED6j37lgAtbZ",
        "outputId": "4bb270fa-44fd-438f-e492-ed3eb4ddf603"
      },
      "outputs": [
        {
          "name": "stdout",
          "output_type": "stream",
          "text": [
            "(946719, 53)\n",
            "<class 'pandas.core.frame.DataFrame'>\n",
            "Index: 946719 entries, 0 to 449918\n",
            "Data columns (total 53 columns):\n",
            " #   Column         Non-Null Count   Dtype  \n",
            "---  ------         --------------   -----  \n",
            " 0   Timestamp      946719 non-null  object \n",
            " 1   FIT101         946719 non-null  float64\n",
            " 2   LIT101         946719 non-null  float64\n",
            " 3   MV101          946719 non-null  int64  \n",
            " 4   P101           946719 non-null  int64  \n",
            " 5   P102           946719 non-null  int64  \n",
            " 6   AIT201         946719 non-null  float64\n",
            " 7   AIT202         946719 non-null  float64\n",
            " 8   AIT203         946719 non-null  float64\n",
            " 9   FIT201         946719 non-null  float64\n",
            " 10  MV201          946719 non-null  int64  \n",
            " 11  P201           946719 non-null  int64  \n",
            " 12  P202           946719 non-null  int64  \n",
            " 13  P203           946719 non-null  int64  \n",
            " 14  P204           946719 non-null  int64  \n",
            " 15  P205           946719 non-null  int64  \n",
            " 16  P206           946719 non-null  int64  \n",
            " 17  DPIT301        946719 non-null  float64\n",
            " 18  FIT301         946719 non-null  float64\n",
            " 19  LIT301         946719 non-null  float64\n",
            " 20  MV301          946719 non-null  int64  \n",
            " 21  MV302          946719 non-null  int64  \n",
            " 22  MV303          946719 non-null  int64  \n",
            " 23  MV304          946719 non-null  int64  \n",
            " 24  P301           946719 non-null  int64  \n",
            " 25  P302           946719 non-null  int64  \n",
            " 26  AIT401         946719 non-null  float64\n",
            " 27  AIT402         946719 non-null  float64\n",
            " 28  FIT401         946719 non-null  float64\n",
            " 29  LIT401         946719 non-null  float64\n",
            " 30  P401           946719 non-null  int64  \n",
            " 31  P402           946719 non-null  int64  \n",
            " 32  P403           946719 non-null  int64  \n",
            " 33  P404           946719 non-null  int64  \n",
            " 34  UV401          946719 non-null  int64  \n",
            " 35  AIT501         946719 non-null  float64\n",
            " 36  AIT502         946719 non-null  float64\n",
            " 37  AIT503         946719 non-null  float64\n",
            " 38  AIT504         946719 non-null  float64\n",
            " 39  FIT501         946719 non-null  float64\n",
            " 40  FIT502         946719 non-null  float64\n",
            " 41  FIT503         946719 non-null  float64\n",
            " 42  FIT504         946719 non-null  float64\n",
            " 43  P501           946719 non-null  int64  \n",
            " 44  P502           946719 non-null  int64  \n",
            " 45  PIT501         946719 non-null  float64\n",
            " 46  PIT502         946719 non-null  float64\n",
            " 47  PIT503         946719 non-null  float64\n",
            " 48  FIT601         946719 non-null  float64\n",
            " 49  P601           946719 non-null  int64  \n",
            " 50  P602           946719 non-null  int64  \n",
            " 51  P603           946719 non-null  int64  \n",
            " 52  Normal/Attack  946719 non-null  object \n",
            "dtypes: float64(25), int64(26), object(2)\n",
            "memory usage: 390.0+ MB\n",
            "None\n"
          ]
        }
      ],
      "source": [
        "# data2 colums have spaces thats why after concatenating columns inreased to 60\n",
        "\n",
        "# Remove leading and trailing spaces from column names\n",
        "data.columns = data.columns.str.strip()\n",
        "data2.columns = data2.columns.str.strip()\n",
        "\n",
        "\n",
        "# Ensure both dataframes have the same columns\n",
        "assert list(data.columns) == list(data2.columns), \"Column names do not match after stripping\"\n",
        "\n",
        "# Concatenate the dataframes\n",
        "data_merged = pd.concat([data, data2])\n",
        "\n",
        "# Display the shape and info of the concatenated dataframe\n",
        "print(data_merged.shape)\n",
        "print(data_merged.info())\n"
      ]
    },
    {
      "cell_type": "code",
      "execution_count": 12,
      "metadata": {
        "colab": {
          "base_uri": "https://localhost:8080/"
        },
        "id": "vc3qB-6eAtYs",
        "outputId": "0b76ef5f-87fc-4579-e86a-eebed7902561"
      },
      "outputs": [
        {
          "data": {
            "text/plain": [
              "Timestamp        946719\n",
              "FIT101             3955\n",
              "LIT101            12162\n",
              "MV101                 3\n",
              "P101                  2\n",
              "P102                  2\n",
              "AIT201             2338\n",
              "AIT202             1763\n",
              "AIT203             6868\n",
              "FIT201             4989\n",
              "MV201                 3\n",
              "P201                  2\n",
              "P202                  1\n",
              "P203                  2\n",
              "P204                  2\n",
              "P205                  2\n",
              "P206                  2\n",
              "DPIT301            5180\n",
              "FIT301             8285\n",
              "LIT301            11966\n",
              "MV301                 3\n",
              "MV302                 3\n",
              "MV303                 3\n",
              "MV304                 3\n",
              "P301                  2\n",
              "P302                  2\n",
              "AIT401               37\n",
              "AIT402             4127\n",
              "FIT401              969\n",
              "LIT401            15141\n",
              "P401                  1\n",
              "P402                  2\n",
              "P403                  2\n",
              "P404                  1\n",
              "UV401                 2\n",
              "AIT501             1724\n",
              "AIT502             3470\n",
              "AIT503             1123\n",
              "AIT504              565\n",
              "FIT501             1029\n",
              "FIT502             1560\n",
              "FIT503              499\n",
              "FIT504              292\n",
              "P501                  2\n",
              "P502                  1\n",
              "PIT501             1419\n",
              "PIT502              115\n",
              "PIT503             1334\n",
              "FIT601             6054\n",
              "P601                  1\n",
              "P602                  2\n",
              "P603                  1\n",
              "Normal/Attack         3\n",
              "dtype: int64"
            ]
          },
          "execution_count": 12,
          "metadata": {},
          "output_type": "execute_result"
        }
      ],
      "source": [
        "data_merged.nunique()"
      ]
    },
    {
      "cell_type": "code",
      "execution_count": 13,
      "metadata": {
        "colab": {
          "base_uri": "https://localhost:8080/"
        },
        "id": "2vcg85SWAtWT",
        "outputId": "04c648ad-246b-47fd-a82e-6e51779546ee"
      },
      "outputs": [
        {
          "data": {
            "text/plain": [
              "array(['Normal', 'Attack', 'A ttack'], dtype=object)"
            ]
          },
          "execution_count": 13,
          "metadata": {},
          "output_type": "execute_result"
        }
      ],
      "source": [
        "data_merged['Normal/Attack'].unique()"
      ]
    },
    {
      "cell_type": "code",
      "execution_count": 14,
      "metadata": {
        "id": "MAoxviOwAtTg"
      },
      "outputs": [],
      "source": [
        "# removing space\n",
        "data_merged['Normal/Attack'] = data_merged['Normal/Attack'].str.replace('A ttack', 'Attack')\n"
      ]
    },
    {
      "cell_type": "code",
      "execution_count": 15,
      "metadata": {
        "colab": {
          "base_uri": "https://localhost:8080/",
          "height": 564
        },
        "id": "Pnd-A1hLAtQ6",
        "outputId": "123fed7d-3b78-4fff-9530-144daf7dc6cd"
      },
      "outputs": [
        {
          "data": {
            "image/png": "[encoded data removed]",
            "text/plain": [
              "<Figure size 800x600 with 1 Axes>"
            ]
          },
          "metadata": {},
          "output_type": "display_data"
        }
      ],
      "source": [
        "import matplotlib.pyplot as plt\n",
        "\n",
        "\n",
        "# Count the occurrences of each value in the 'Normal/Attack' column\n",
        "attack_counts = data_merged['Normal/Attack'].value_counts()\n",
        "\n",
        "# Create a bar plot\n",
        "attack_counts.plot(kind='bar', figsize=(8, 6))\n",
        "\n",
        "# Add plot title and axis labels\n",
        "plt.title('Distribution of Normal/Attack')\n",
        "plt.xlabel('Type')\n",
        "plt.ylabel('Count')\n",
        "\n",
        "# Rotate x-axis labels for better visibility\n",
        "plt.xticks(rotation=0)\n",
        "\n",
        "# Add values on top of each bar\n",
        "for i, count in enumerate(attack_counts):\n",
        "    plt.text(i, count, str(count), ha='center', va='bottom')\n",
        "\n",
        "\n",
        "# Display the plot\n",
        "plt.show()"
      ]
    },
    {
      "cell_type": "markdown",
      "metadata": {},
      "source": [
        "# Data Preprocessing"
      ]
    },
    {
      "cell_type": "code",
      "execution_count": 16,
      "metadata": {
        "id": "XBU2diUcAtN0"
      },
      "outputs": [],
      "source": [
        "# remove duplicates\n",
        "data_merged.drop_duplicates(inplace=True)"
      ]
    },
    {
      "cell_type": "code",
      "execution_count": 17,
      "metadata": {
        "id": "MUvwoMMoAtKL"
      },
      "outputs": [],
      "source": [
        "# drop missing values\n",
        "data_merged.dropna(inplace=True)"
      ]
    },
    {
      "cell_type": "code",
      "execution_count": 18,
      "metadata": {
        "colab": {
          "base_uri": "https://localhost:8080/"
        },
        "id": "Mq-ZbLEGAs6f",
        "outputId": "e79bd31d-2e2f-4aef-c4a4-1d460c94255f"
      },
      "outputs": [
        {
          "data": {
            "text/plain": [
              "(946719, 53)"
            ]
          },
          "execution_count": 18,
          "metadata": {},
          "output_type": "execute_result"
        }
      ],
      "source": [
        "data_merged.shape"
      ]
    },
    {
      "cell_type": "code",
      "execution_count": 19,
      "metadata": {
        "colab": {
          "base_uri": "https://localhost:8080/"
        },
        "id": "0VpnN3BOBdzK",
        "outputId": "b354a212-d0c7-46cc-d638-116ac6500e5b"
      },
      "outputs": [
        {
          "data": {
            "text/plain": [
              "Timestamp        946719\n",
              "FIT101             3955\n",
              "LIT101            12162\n",
              "MV101                 3\n",
              "P101                  2\n",
              "P102                  2\n",
              "AIT201             2338\n",
              "AIT202             1763\n",
              "AIT203             6868\n",
              "FIT201             4989\n",
              "MV201                 3\n",
              "P201                  2\n",
              "P202                  1\n",
              "P203                  2\n",
              "P204                  2\n",
              "P205                  2\n",
              "P206                  2\n",
              "DPIT301            5180\n",
              "FIT301             8285\n",
              "LIT301            11966\n",
              "MV301                 3\n",
              "MV302                 3\n",
              "MV303                 3\n",
              "MV304                 3\n",
              "P301                  2\n",
              "P302                  2\n",
              "AIT401               37\n",
              "AIT402             4127\n",
              "FIT401              969\n",
              "LIT401            15141\n",
              "P401                  1\n",
              "P402                  2\n",
              "P403                  2\n",
              "P404                  1\n",
              "UV401                 2\n",
              "AIT501             1724\n",
              "AIT502             3470\n",
              "AIT503             1123\n",
              "AIT504              565\n",
              "FIT501             1029\n",
              "FIT502             1560\n",
              "FIT503              499\n",
              "FIT504              292\n",
              "P501                  2\n",
              "P502                  1\n",
              "PIT501             1419\n",
              "PIT502              115\n",
              "PIT503             1334\n",
              "FIT601             6054\n",
              "P601                  1\n",
              "P602                  2\n",
              "P603                  1\n",
              "Normal/Attack         2\n",
              "dtype: int64"
            ]
          },
          "execution_count": 19,
          "metadata": {},
          "output_type": "execute_result"
        }
      ],
      "source": [
        "data_merged.nunique()\n"
      ]
    },
    {
      "cell_type": "code",
      "execution_count": 20,
      "metadata": {
        "id": "eI-dYMDxBdtc"
      },
      "outputs": [],
      "source": [
        "# choose columns which have more than one unique value\n",
        "df = data_merged.loc[:, data_merged.nunique() > 1]"
      ]
    },
    {
      "cell_type": "code",
      "execution_count": 21,
      "metadata": {
        "colab": {
          "base_uri": "https://localhost:8080/"
        },
        "id": "53ZByNJcBdor",
        "outputId": "9fe36642-a7fd-403c-982a-cb8b64a37f4b"
      },
      "outputs": [
        {
          "data": {
            "text/plain": [
              "Timestamp        946719\n",
              "FIT101             3955\n",
              "LIT101            12162\n",
              "MV101                 3\n",
              "P101                  2\n",
              "P102                  2\n",
              "AIT201             2338\n",
              "AIT202             1763\n",
              "AIT203             6868\n",
              "FIT201             4989\n",
              "MV201                 3\n",
              "P201                  2\n",
              "P203                  2\n",
              "P204                  2\n",
              "P205                  2\n",
              "P206                  2\n",
              "DPIT301            5180\n",
              "FIT301             8285\n",
              "LIT301            11966\n",
              "MV301                 3\n",
              "MV302                 3\n",
              "MV303                 3\n",
              "MV304                 3\n",
              "P301                  2\n",
              "P302                  2\n",
              "AIT401               37\n",
              "AIT402             4127\n",
              "FIT401              969\n",
              "LIT401            15141\n",
              "P402                  2\n",
              "P403                  2\n",
              "UV401                 2\n",
              "AIT501             1724\n",
              "AIT502             3470\n",
              "AIT503             1123\n",
              "AIT504              565\n",
              "FIT501             1029\n",
              "FIT502             1560\n",
              "FIT503              499\n",
              "FIT504              292\n",
              "P501                  2\n",
              "PIT501             1419\n",
              "PIT502              115\n",
              "PIT503             1334\n",
              "FIT601             6054\n",
              "P602                  2\n",
              "Normal/Attack         2\n",
              "dtype: int64"
            ]
          },
          "execution_count": 21,
          "metadata": {},
          "output_type": "execute_result"
        }
      ],
      "source": [
        "df.nunique()"
      ]
    },
    {
      "cell_type": "code",
      "execution_count": 22,
      "metadata": {
        "colab": {
          "base_uri": "https://localhost:8080/"
        },
        "id": "LhaNrkayBdkU",
        "outputId": "8ecca4c2-4733-4deb-d7fd-8ff0c48a95ae"
      },
      "outputs": [
        {
          "name": "stdout",
          "output_type": "stream",
          "text": [
            "<class 'pandas.core.frame.DataFrame'>\n",
            "Index: 946719 entries, 0 to 449918\n",
            "Data columns (total 47 columns):\n",
            " #   Column         Non-Null Count   Dtype  \n",
            "---  ------         --------------   -----  \n",
            " 0   Timestamp      946719 non-null  object \n",
            " 1   FIT101         946719 non-null  float64\n",
            " 2   LIT101         946719 non-null  float64\n",
            " 3   MV101          946719 non-null  int64  \n",
            " 4   P101           946719 non-null  int64  \n",
            " 5   P102           946719 non-null  int64  \n",
            " 6   AIT201         946719 non-null  float64\n",
            " 7   AIT202         946719 non-null  float64\n",
            " 8   AIT203         946719 non-null  float64\n",
            " 9   FIT201         946719 non-null  float64\n",
            " 10  MV201          946719 non-null  int64  \n",
            " 11  P201           946719 non-null  int64  \n",
            " 12  P203           946719 non-null  int64  \n",
            " 13  P204           946719 non-null  int64  \n",
            " 14  P205           946719 non-null  int64  \n",
            " 15  P206           946719 non-null  int64  \n",
            " 16  DPIT301        946719 non-null  float64\n",
            " 17  FIT301         946719 non-null  float64\n",
            " 18  LIT301         946719 non-null  float64\n",
            " 19  MV301          946719 non-null  int64  \n",
            " 20  MV302          946719 non-null  int64  \n",
            " 21  MV303          946719 non-null  int64  \n",
            " 22  MV304          946719 non-null  int64  \n",
            " 23  P301           946719 non-null  int64  \n",
            " 24  P302           946719 non-null  int64  \n",
            " 25  AIT401         946719 non-null  float64\n",
            " 26  AIT402         946719 non-null  float64\n",
            " 27  FIT401         946719 non-null  float64\n",
            " 28  LIT401         946719 non-null  float64\n",
            " 29  P402           946719 non-null  int64  \n",
            " 30  P403           946719 non-null  int64  \n",
            " 31  UV401          946719 non-null  int64  \n",
            " 32  AIT501         946719 non-null  float64\n",
            " 33  AIT502         946719 non-null  float64\n",
            " 34  AIT503         946719 non-null  float64\n",
            " 35  AIT504         946719 non-null  float64\n",
            " 36  FIT501         946719 non-null  float64\n",
            " 37  FIT502         946719 non-null  float64\n",
            " 38  FIT503         946719 non-null  float64\n",
            " 39  FIT504         946719 non-null  float64\n",
            " 40  P501           946719 non-null  int64  \n",
            " 41  PIT501         946719 non-null  float64\n",
            " 42  PIT502         946719 non-null  float64\n",
            " 43  PIT503         946719 non-null  float64\n",
            " 44  FIT601         946719 non-null  float64\n",
            " 45  P602           946719 non-null  int64  \n",
            " 46  Normal/Attack  946719 non-null  object \n",
            "dtypes: float64(25), int64(20), object(2)\n",
            "memory usage: 346.7+ MB\n"
          ]
        }
      ],
      "source": [
        "df.info()"
      ]
    },
    {
      "cell_type": "code",
      "execution_count": 23,
      "metadata": {
        "colab": {
          "base_uri": "https://localhost:8080/"
        },
        "id": "jizGDPBuBlpw",
        "outputId": "2b337f47-7941-4e58-8c72-cae7048bb5bf"
      },
      "outputs": [
        {
          "name": "stderr",
          "output_type": "stream",
          "text": [
            "C:\\Users\\shehr\\AppData\\Local\\Temp\\ipykernel_18940\\2243477077.py:4: SettingWithCopyWarning: \n",
            "A value is trying to be set on a copy of a slice from a DataFrame.\n",
            "Try using .loc[row_indexer,col_indexer] = value instead\n",
            "\n",
            "See the caveats in the documentation: https://pandas.pydata.org/pandas-docs/stable/user_guide/indexing.html#returning-a-view-versus-a-copy\n",
            "  df['Normal/Attack'] = df['Normal/Attack'].map(mapping)\n"
          ]
        }
      ],
      "source": [
        "# coverting df['Normal/Attack'] to binary\n",
        "\n",
        "mapping = {'Normal': 0, 'Attack': 1}\n",
        "df['Normal/Attack'] = df['Normal/Attack'].map(mapping)\n",
        "\n"
      ]
    },
    {
      "cell_type": "code",
      "execution_count": 24,
      "metadata": {
        "colab": {
          "base_uri": "https://localhost:8080/"
        },
        "id": "JeOjXc-vBln3",
        "outputId": "3961fb99-46f8-458a-96ab-3a8124afddd0"
      },
      "outputs": [
        {
          "data": {
            "text/plain": [
              "0    0\n",
              "1    0\n",
              "2    0\n",
              "3    0\n",
              "4    0\n",
              "Name: Normal/Attack, dtype: int64"
            ]
          },
          "execution_count": 24,
          "metadata": {},
          "output_type": "execute_result"
        }
      ],
      "source": [
        "df['Normal/Attack'].head()"
      ]
    },
    {
      "cell_type": "code",
      "execution_count": 25,
      "metadata": {
        "colab": {
          "base_uri": "https://localhost:8080/"
        },
        "id": "LuNfhlZ7BllW",
        "outputId": "c724868a-4328-4ec4-cd0c-77c0411bb9b5"
      },
      "outputs": [
        {
          "name": "stderr",
          "output_type": "stream",
          "text": [
            "C:\\Users\\shehr\\AppData\\Local\\Temp\\ipykernel_18940\\2397333844.py:2: SettingWithCopyWarning: \n",
            "A value is trying to be set on a copy of a slice from a DataFrame\n",
            "\n",
            "See the caveats in the documentation: https://pandas.pydata.org/pandas-docs/stable/user_guide/indexing.html#returning-a-view-versus-a-copy\n",
            "  df.drop('Timestamp', axis=1, inplace=True)\n"
          ]
        }
      ],
      "source": [
        "# drop timestamp column\n",
        "df.drop('Timestamp', axis=1, inplace=True)"
      ]
    },
    {
      "cell_type": "code",
      "execution_count": 26,
      "metadata": {
        "colab": {
          "base_uri": "https://localhost:8080/"
        },
        "id": "vJ4BuimoBli8",
        "outputId": "b32590dd-032d-4445-fbd1-18f76dbe5ceb"
      },
      "outputs": [
        {
          "name": "stdout",
          "output_type": "stream",
          "text": [
            "<class 'pandas.core.frame.DataFrame'>\n",
            "Index: 946719 entries, 0 to 449918\n",
            "Data columns (total 46 columns):\n",
            " #   Column         Non-Null Count   Dtype  \n",
            "---  ------         --------------   -----  \n",
            " 0   FIT101         946719 non-null  float64\n",
            " 1   LIT101         946719 non-null  float64\n",
            " 2   MV101          946719 non-null  int64  \n",
            " 3   P101           946719 non-null  int64  \n",
            " 4   P102           946719 non-null  int64  \n",
            " 5   AIT201         946719 non-null  float64\n",
            " 6   AIT202         946719 non-null  float64\n",
            " 7   AIT203         946719 non-null  float64\n",
            " 8   FIT201         946719 non-null  float64\n",
            " 9   MV201          946719 non-null  int64  \n",
            " 10  P201           946719 non-null  int64  \n",
            " 11  P203           946719 non-null  int64  \n",
            " 12  P204           946719 non-null  int64  \n",
            " 13  P205           946719 non-null  int64  \n",
            " 14  P206           946719 non-null  int64  \n",
            " 15  DPIT301        946719 non-null  float64\n",
            " 16  FIT301         946719 non-null  float64\n",
            " 17  LIT301         946719 non-null  float64\n",
            " 18  MV301          946719 non-null  int64  \n",
            " 19  MV302          946719 non-null  int64  \n",
            " 20  MV303          946719 non-null  int64  \n",
            " 21  MV304          946719 non-null  int64  \n",
            " 22  P301           946719 non-null  int64  \n",
            " 23  P302           946719 non-null  int64  \n",
            " 24  AIT401         946719 non-null  float64\n",
            " 25  AIT402         946719 non-null  float64\n",
            " 26  FIT401         946719 non-null  float64\n",
            " 27  LIT401         946719 non-null  float64\n",
            " 28  P402           946719 non-null  int64  \n",
            " 29  P403           946719 non-null  int64  \n",
            " 30  UV401          946719 non-null  int64  \n",
            " 31  AIT501         946719 non-null  float64\n",
            " 32  AIT502         946719 non-null  float64\n",
            " 33  AIT503         946719 non-null  float64\n",
            " 34  AIT504         946719 non-null  float64\n",
            " 35  FIT501         946719 non-null  float64\n",
            " 36  FIT502         946719 non-null  float64\n",
            " 37  FIT503         946719 non-null  float64\n",
            " 38  FIT504         946719 non-null  float64\n",
            " 39  P501           946719 non-null  int64  \n",
            " 40  PIT501         946719 non-null  float64\n",
            " 41  PIT502         946719 non-null  float64\n",
            " 42  PIT503         946719 non-null  float64\n",
            " 43  FIT601         946719 non-null  float64\n",
            " 44  P602           946719 non-null  int64  \n",
            " 45  Normal/Attack  946719 non-null  int64  \n",
            "dtypes: float64(25), int64(21)\n",
            "memory usage: 339.5 MB\n"
          ]
        }
      ],
      "source": [
        "df.info()"
      ]
    },
    {
      "cell_type": "code",
      "execution_count": 27,
      "metadata": {
        "id": "33TCaXpRBlgR"
      },
      "outputs": [],
      "source": [
        "X = df.drop('Normal/Attack', axis=1)\n",
        "y= df['Normal/Attack']\n",
        "y = y.reset_index(drop=True)"
      ]
    },
    {
      "cell_type": "code",
      "execution_count": 28,
      "metadata": {
        "id": "KlpJpXK8BwSq"
      },
      "outputs": [],
      "source": [
        "# Numerical and categorical features\n",
        "numerical_features = []\n",
        "categorical_features = []\n",
        "\n",
        "for column in X.columns:\n",
        "    unique_values = X[column].nunique()\n",
        "    if unique_values > 3:\n",
        "        numerical_features.append(column)\n",
        "    else:\n",
        "        categorical_features.append(column)"
      ]
    },
    {
      "cell_type": "code",
      "execution_count": 29,
      "metadata": {
        "colab": {
          "base_uri": "https://localhost:8080/"
        },
        "id": "E_PpMJJ7BwQM",
        "outputId": "b9286ff2-6630-46b0-fe6b-e4def9fb36c2"
      },
      "outputs": [
        {
          "data": {
            "text/plain": [
              "['FIT101',\n",
              " 'LIT101',\n",
              " 'AIT201',\n",
              " 'AIT202',\n",
              " 'AIT203',\n",
              " 'FIT201',\n",
              " 'DPIT301',\n",
              " 'FIT301',\n",
              " 'LIT301',\n",
              " 'AIT401',\n",
              " 'AIT402',\n",
              " 'FIT401',\n",
              " 'LIT401',\n",
              " 'AIT501',\n",
              " 'AIT502',\n",
              " 'AIT503',\n",
              " 'AIT504',\n",
              " 'FIT501',\n",
              " 'FIT502',\n",
              " 'FIT503',\n",
              " 'FIT504',\n",
              " 'PIT501',\n",
              " 'PIT502',\n",
              " 'PIT503',\n",
              " 'FIT601']"
            ]
          },
          "execution_count": 29,
          "metadata": {},
          "output_type": "execute_result"
        }
      ],
      "source": [
        "numerical_features"
      ]
    },
    {
      "cell_type": "code",
      "execution_count": 30,
      "metadata": {
        "colab": {
          "base_uri": "https://localhost:8080/"
        },
        "id": "fn0_mb2bBwN6",
        "outputId": "78f11d47-c42e-4488-8c12-8497fcaebdc8"
      },
      "outputs": [
        {
          "data": {
            "text/plain": [
              "['MV101',\n",
              " 'P101',\n",
              " 'P102',\n",
              " 'MV201',\n",
              " 'P201',\n",
              " 'P203',\n",
              " 'P204',\n",
              " 'P205',\n",
              " 'P206',\n",
              " 'MV301',\n",
              " 'MV302',\n",
              " 'MV303',\n",
              " 'MV304',\n",
              " 'P301',\n",
              " 'P302',\n",
              " 'P402',\n",
              " 'P403',\n",
              " 'UV401',\n",
              " 'P501',\n",
              " 'P602']"
            ]
          },
          "execution_count": 30,
          "metadata": {},
          "output_type": "execute_result"
        }
      ],
      "source": [
        "categorical_features"
      ]
    },
    {
      "cell_type": "code",
      "execution_count": 31,
      "metadata": {
        "id": "mUmFo3u-BwAK"
      },
      "outputs": [],
      "source": [
        "from sklearn.preprocessing import MinMaxScaler, OneHotEncoder\n",
        "\n",
        "numerical_data = df[numerical_features]\n",
        "categorical_data = df[categorical_features]\n",
        "\n",
        "# Min-Max scaling for numerical features\n",
        "scaler = MinMaxScaler()\n",
        "numerical_data_scaled = scaler.fit_transform(numerical_data)\n",
        "numerical_data_scaled_df = pd.DataFrame(numerical_data_scaled, columns=numerical_data.columns)\n",
        "\n",
        "# One-hot encoding for categorical features\n",
        "encoder = OneHotEncoder(drop='first', sparse_output=False)\n",
        "encoder.fit(categorical_data)\n",
        "\n",
        "categorical_feature_names = encoder.get_feature_names_out(categorical_data.columns)\n",
        "categorical_data_encoded = encoder.transform(categorical_data)\n",
        "categorical_data_encoded_df = pd.DataFrame(categorical_data_encoded, columns=categorical_feature_names)\n",
        "preprocessed_data = pd.concat([numerical_data_scaled_df, categorical_data_encoded_df], axis=1)\n"
      ]
    },
    {
      "cell_type": "code",
      "execution_count": 32,
      "metadata": {
        "colab": {
          "base_uri": "https://localhost:8080/"
        },
        "id": "ZCsfsLtzB4LE",
        "outputId": "37b22cb5-a2af-4267-d5e6-51dd78fff81b"
      },
      "outputs": [
        {
          "name": "stdout",
          "output_type": "stream",
          "text": [
            "<class 'pandas.core.frame.DataFrame'>\n",
            "RangeIndex: 946719 entries, 0 to 946718\n",
            "Data columns (total 51 columns):\n",
            " #   Column   Non-Null Count   Dtype  \n",
            "---  ------   --------------   -----  \n",
            " 0   FIT101   946719 non-null  float64\n",
            " 1   LIT101   946719 non-null  float64\n",
            " 2   AIT201   946719 non-null  float64\n",
            " 3   AIT202   946719 non-null  float64\n",
            " 4   AIT203   946719 non-null  float64\n",
            " 5   FIT201   946719 non-null  float64\n",
            " 6   DPIT301  946719 non-null  float64\n",
            " 7   FIT301   946719 non-null  float64\n",
            " 8   LIT301   946719 non-null  float64\n",
            " 9   AIT401   946719 non-null  float64\n",
            " 10  AIT402   946719 non-null  float64\n",
            " 11  FIT401   946719 non-null  float64\n",
            " 12  LIT401   946719 non-null  float64\n",
            " 13  AIT501   946719 non-null  float64\n",
            " 14  AIT502   946719 non-null  float64\n",
            " 15  AIT503   946719 non-null  float64\n",
            " 16  AIT504   946719 non-null  float64\n",
            " 17  FIT501   946719 non-null  float64\n",
            " 18  FIT502   946719 non-null  float64\n",
            " 19  FIT503   946719 non-null  float64\n",
            " 20  FIT504   946719 non-null  float64\n",
            " 21  PIT501   946719 non-null  float64\n",
            " 22  PIT502   946719 non-null  float64\n",
            " 23  PIT503   946719 non-null  float64\n",
            " 24  FIT601   946719 non-null  float64\n",
            " 25  MV101_1  946719 non-null  float64\n",
            " 26  MV101_2  946719 non-null  float64\n",
            " 27  P101_2   946719 non-null  float64\n",
            " 28  P102_2   946719 non-null  float64\n",
            " 29  MV201_1  946719 non-null  float64\n",
            " 30  MV201_2  946719 non-null  float64\n",
            " 31  P201_2   946719 non-null  float64\n",
            " 32  P203_2   946719 non-null  float64\n",
            " 33  P204_2   946719 non-null  float64\n",
            " 34  P205_2   946719 non-null  float64\n",
            " 35  P206_2   946719 non-null  float64\n",
            " 36  MV301_1  946719 non-null  float64\n",
            " 37  MV301_2  946719 non-null  float64\n",
            " 38  MV302_1  946719 non-null  float64\n",
            " 39  MV302_2  946719 non-null  float64\n",
            " 40  MV303_1  946719 non-null  float64\n",
            " 41  MV303_2  946719 non-null  float64\n",
            " 42  MV304_1  946719 non-null  float64\n",
            " 43  MV304_2  946719 non-null  float64\n",
            " 44  P301_2   946719 non-null  float64\n",
            " 45  P302_2   946719 non-null  float64\n",
            " 46  P402_2   946719 non-null  float64\n",
            " 47  P403_2   946719 non-null  float64\n",
            " 48  UV401_2  946719 non-null  float64\n",
            " 49  P501_2   946719 non-null  float64\n",
            " 50  P602_2   946719 non-null  float64\n",
            "dtypes: float64(51)\n",
            "memory usage: 368.4 MB\n"
          ]
        }
      ],
      "source": [
        "preprocessed_data.info()\n"
      ]
    },
    {
      "cell_type": "code",
      "execution_count": 33,
      "metadata": {
        "colab": {
          "base_uri": "https://localhost:8080/",
          "height": 256
        },
        "id": "CB3OfqDqB4Io",
        "outputId": "d0cf79b0-1700-41e9-b9e2-e85ee2d79110"
      },
      "outputs": [
        {
          "data": {
            "text/html": [
              "<div>\n",
              "<style scoped>\n",
              "    .dataframe tbody tr th:only-of-type {\n",
              "        vertical-align: middle;\n",
              "    }\n",
              "\n",
              "    .dataframe tbody tr th {\n",
              "        vertical-align: top;\n",
              "    }\n",
              "\n",
              "    .dataframe thead th {\n",
              "        text-align: right;\n",
              "    }\n",
              "</style>\n",
              "<table border=\"1\" class=\"dataframe\">\n",
              "  <thead>\n",
              "    <tr style=\"text-align: right;\">\n",
              "      <th></th>\n",
              "      <th>FIT101</th>\n",
              "      <th>LIT101</th>\n",
              "      <th>AIT201</th>\n",
              "      <th>AIT202</th>\n",
              "      <th>AIT203</th>\n",
              "      <th>FIT201</th>\n",
              "      <th>DPIT301</th>\n",
              "      <th>FIT301</th>\n",
              "      <th>LIT301</th>\n",
              "      <th>AIT401</th>\n",
              "      <th>...</th>\n",
              "      <th>MV303_2</th>\n",
              "      <th>MV304_1</th>\n",
              "      <th>MV304_2</th>\n",
              "      <th>P301_2</th>\n",
              "      <th>P302_2</th>\n",
              "      <th>P402_2</th>\n",
              "      <th>P403_2</th>\n",
              "      <th>UV401_2</th>\n",
              "      <th>P501_2</th>\n",
              "      <th>P602_2</th>\n",
              "    </tr>\n",
              "  </thead>\n",
              "  <tbody>\n",
              "    <tr>\n",
              "      <th>0</th>\n",
              "      <td>0.894987</td>\n",
              "      <td>0.160292</td>\n",
              "      <td>0.730144</td>\n",
              "      <td>0.732892</td>\n",
              "      <td>0.073596</td>\n",
              "      <td>0.874201</td>\n",
              "      <td>0.462186</td>\n",
              "      <td>0.940694</td>\n",
              "      <td>0.182199</td>\n",
              "      <td>0.0</td>\n",
              "      <td>...</td>\n",
              "      <td>0.0</td>\n",
              "      <td>1.0</td>\n",
              "      <td>0.0</td>\n",
              "      <td>1.0</td>\n",
              "      <td>0.0</td>\n",
              "      <td>0.0</td>\n",
              "      <td>0.0</td>\n",
              "      <td>0.0</td>\n",
              "      <td>0.0</td>\n",
              "      <td>0.0</td>\n",
              "    </tr>\n",
              "    <tr>\n",
              "      <th>1</th>\n",
              "      <td>0.890230</td>\n",
              "      <td>0.159845</td>\n",
              "      <td>0.730144</td>\n",
              "      <td>0.732892</td>\n",
              "      <td>0.073596</td>\n",
              "      <td>0.873249</td>\n",
              "      <td>0.462186</td>\n",
              "      <td>0.940371</td>\n",
              "      <td>0.182199</td>\n",
              "      <td>0.0</td>\n",
              "      <td>...</td>\n",
              "      <td>0.0</td>\n",
              "      <td>1.0</td>\n",
              "      <td>0.0</td>\n",
              "      <td>1.0</td>\n",
              "      <td>0.0</td>\n",
              "      <td>0.0</td>\n",
              "      <td>0.0</td>\n",
              "      <td>0.0</td>\n",
              "      <td>0.0</td>\n",
              "      <td>0.0</td>\n",
              "    </tr>\n",
              "    <tr>\n",
              "      <th>2</th>\n",
              "      <td>0.883848</td>\n",
              "      <td>0.159533</td>\n",
              "      <td>0.730144</td>\n",
              "      <td>0.732892</td>\n",
              "      <td>0.073596</td>\n",
              "      <td>0.872796</td>\n",
              "      <td>0.463182</td>\n",
              "      <td>0.939886</td>\n",
              "      <td>0.182199</td>\n",
              "      <td>0.0</td>\n",
              "      <td>...</td>\n",
              "      <td>0.0</td>\n",
              "      <td>1.0</td>\n",
              "      <td>0.0</td>\n",
              "      <td>1.0</td>\n",
              "      <td>0.0</td>\n",
              "      <td>0.0</td>\n",
              "      <td>0.0</td>\n",
              "      <td>0.0</td>\n",
              "      <td>0.0</td>\n",
              "      <td>0.0</td>\n",
              "    </tr>\n",
              "    <tr>\n",
              "      <th>3</th>\n",
              "      <td>0.879786</td>\n",
              "      <td>0.158819</td>\n",
              "      <td>0.730144</td>\n",
              "      <td>0.732892</td>\n",
              "      <td>0.073596</td>\n",
              "      <td>0.872524</td>\n",
              "      <td>0.463182</td>\n",
              "      <td>0.939886</td>\n",
              "      <td>0.182049</td>\n",
              "      <td>0.0</td>\n",
              "      <td>...</td>\n",
              "      <td>0.0</td>\n",
              "      <td>1.0</td>\n",
              "      <td>0.0</td>\n",
              "      <td>1.0</td>\n",
              "      <td>0.0</td>\n",
              "      <td>0.0</td>\n",
              "      <td>0.0</td>\n",
              "      <td>0.0</td>\n",
              "      <td>0.0</td>\n",
              "      <td>0.0</td>\n",
              "    </tr>\n",
              "    <tr>\n",
              "      <th>4</th>\n",
              "      <td>0.878510</td>\n",
              "      <td>0.158372</td>\n",
              "      <td>0.731064</td>\n",
              "      <td>0.732892</td>\n",
              "      <td>0.073596</td>\n",
              "      <td>0.872524</td>\n",
              "      <td>0.463182</td>\n",
              "      <td>0.939886</td>\n",
              "      <td>0.181936</td>\n",
              "      <td>0.0</td>\n",
              "      <td>...</td>\n",
              "      <td>0.0</td>\n",
              "      <td>1.0</td>\n",
              "      <td>0.0</td>\n",
              "      <td>1.0</td>\n",
              "      <td>0.0</td>\n",
              "      <td>0.0</td>\n",
              "      <td>0.0</td>\n",
              "      <td>0.0</td>\n",
              "      <td>0.0</td>\n",
              "      <td>0.0</td>\n",
              "    </tr>\n",
              "  </tbody>\n",
              "</table>\n",
              "<p>5 rows × 51 columns</p>\n",
              "</div>"
            ],
            "text/plain": [
              "     FIT101    LIT101    AIT201    AIT202    AIT203    FIT201   DPIT301  \\\n",
              "0  0.894987  0.160292  0.730144  0.732892  0.073596  0.874201  0.462186   \n",
              "1  0.890230  0.159845  0.730144  0.732892  0.073596  0.873249  0.462186   \n",
              "2  0.883848  0.159533  0.730144  0.732892  0.073596  0.872796  0.463182   \n",
              "3  0.879786  0.158819  0.730144  0.732892  0.073596  0.872524  0.463182   \n",
              "4  0.878510  0.158372  0.731064  0.732892  0.073596  0.872524  0.463182   \n",
              "\n",
              "     FIT301    LIT301  AIT401  ...  MV303_2  MV304_1  MV304_2  P301_2  P302_2  \\\n",
              "0  0.940694  0.182199     0.0  ...      0.0      1.0      0.0     1.0     0.0   \n",
              "1  0.940371  0.182199     0.0  ...      0.0      1.0      0.0     1.0     0.0   \n",
              "2  0.939886  0.182199     0.0  ...      0.0      1.0      0.0     1.0     0.0   \n",
              "3  0.939886  0.182049     0.0  ...      0.0      1.0      0.0     1.0     0.0   \n",
              "4  0.939886  0.181936     0.0  ...      0.0      1.0      0.0     1.0     0.0   \n",
              "\n",
              "   P402_2  P403_2  UV401_2  P501_2  P602_2  \n",
              "0     0.0     0.0      0.0     0.0     0.0  \n",
              "1     0.0     0.0      0.0     0.0     0.0  \n",
              "2     0.0     0.0      0.0     0.0     0.0  \n",
              "3     0.0     0.0      0.0     0.0     0.0  \n",
              "4     0.0     0.0      0.0     0.0     0.0  \n",
              "\n",
              "[5 rows x 51 columns]"
            ]
          },
          "execution_count": 33,
          "metadata": {},
          "output_type": "execute_result"
        }
      ],
      "source": [
        "preprocessed_data.head()\n"
      ]
    },
    {
      "cell_type": "code",
      "execution_count": 34,
      "metadata": {
        "colab": {
          "base_uri": "https://localhost:8080/"
        },
        "id": "7-XJl8g2FEsV",
        "outputId": "e31afb27-9192-475c-f46a-970db32cd432"
      },
      "outputs": [
        {
          "name": "stdout",
          "output_type": "stream",
          "text": [
            "     FIT101    LIT101    AIT201    AIT202    AIT203    FIT201   DPIT301  \\\n",
            "0  0.894987  0.160292  0.730144  0.732892  0.073596  0.874201  0.462186   \n",
            "1  0.890230  0.159845  0.730144  0.732892  0.073596  0.873249  0.462186   \n",
            "2  0.883848  0.159533  0.730144  0.732892  0.073596  0.872796  0.463182   \n",
            "3  0.879786  0.158819  0.730144  0.732892  0.073596  0.872524  0.463182   \n",
            "4  0.878510  0.158372  0.731064  0.732892  0.073596  0.872524  0.463182   \n",
            "\n",
            "     FIT301    LIT301  AIT401  ...  MV304_1  MV304_2  P301_2  P302_2  P402_2  \\\n",
            "0  0.940694  0.182199     0.0  ...      1.0      0.0     1.0     0.0     0.0   \n",
            "1  0.940371  0.182199     0.0  ...      1.0      0.0     1.0     0.0     0.0   \n",
            "2  0.939886  0.182199     0.0  ...      1.0      0.0     1.0     0.0     0.0   \n",
            "3  0.939886  0.182049     0.0  ...      1.0      0.0     1.0     0.0     0.0   \n",
            "4  0.939886  0.181936     0.0  ...      1.0      0.0     1.0     0.0     0.0   \n",
            "\n",
            "   P403_2  UV401_2  P501_2  P602_2  Normal/Attack  \n",
            "0     0.0      0.0     0.0     0.0              0  \n",
            "1     0.0      0.0     0.0     0.0              0  \n",
            "2     0.0      0.0     0.0     0.0              0  \n",
            "3     0.0      0.0     0.0     0.0              0  \n",
            "4     0.0      0.0     0.0     0.0              0  \n",
            "\n",
            "[5 rows x 52 columns]\n",
            "Index(['FIT101', 'LIT101', 'AIT201', 'AIT202', 'AIT203', 'FIT201', 'DPIT301',\n",
            "       'FIT301', 'LIT301', 'AIT401', 'AIT402', 'FIT401', 'LIT401', 'AIT501',\n",
            "       'AIT502', 'AIT503', 'AIT504', 'FIT501', 'FIT502', 'FIT503', 'FIT504',\n",
            "       'PIT501', 'PIT502', 'PIT503', 'FIT601', 'MV101_1', 'MV101_2', 'P101_2',\n",
            "       'P102_2', 'MV201_1', 'MV201_2', 'P201_2', 'P203_2', 'P204_2', 'P205_2',\n",
            "       'P206_2', 'MV301_1', 'MV301_2', 'MV302_1', 'MV302_2', 'MV303_1',\n",
            "       'MV303_2', 'MV304_1', 'MV304_2', 'P301_2', 'P302_2', 'P402_2', 'P403_2',\n",
            "       'UV401_2', 'P501_2', 'P602_2', 'Normal/Attack'],\n",
            "      dtype='object')\n"
          ]
        }
      ],
      "source": [
        "# Reset index to ensure alignment\n",
        "df = df.reset_index(drop=True)\n",
        "preprocessed_data = preprocessed_data.reset_index(drop=True)\n",
        "\n",
        "# Select the 'Normal/Attack' column from df\n",
        "normal_attack_column = df['Normal/Attack']\n",
        "\n",
        "# Add the 'Normal/Attack' column to preprocessed_data\n",
        "preprocessed_data['Normal/Attack'] = normal_attack_column\n",
        "\n",
        "# Verify the addition\n",
        "print(preprocessed_data.head())\n",
        "print(preprocessed_data.columns)"
      ]
    },
    {
      "cell_type": "code",
      "execution_count": 35,
      "metadata": {
        "colab": {
          "base_uri": "https://localhost:8080/"
        },
        "id": "Eji9Jb84GKE0",
        "outputId": "782d69da-8943-4a44-b6d8-5f628d54c2a1"
      },
      "outputs": [
        {
          "name": "stdout",
          "output_type": "stream",
          "text": [
            "<class 'pandas.core.frame.DataFrame'>\n",
            "RangeIndex: 946719 entries, 0 to 946718\n",
            "Data columns (total 52 columns):\n",
            " #   Column         Non-Null Count   Dtype  \n",
            "---  ------         --------------   -----  \n",
            " 0   FIT101         946719 non-null  float64\n",
            " 1   LIT101         946719 non-null  float64\n",
            " 2   AIT201         946719 non-null  float64\n",
            " 3   AIT202         946719 non-null  float64\n",
            " 4   AIT203         946719 non-null  float64\n",
            " 5   FIT201         946719 non-null  float64\n",
            " 6   DPIT301        946719 non-null  float64\n",
            " 7   FIT301         946719 non-null  float64\n",
            " 8   LIT301         946719 non-null  float64\n",
            " 9   AIT401         946719 non-null  float64\n",
            " 10  AIT402         946719 non-null  float64\n",
            " 11  FIT401         946719 non-null  float64\n",
            " 12  LIT401         946719 non-null  float64\n",
            " 13  AIT501         946719 non-null  float64\n",
            " 14  AIT502         946719 non-null  float64\n",
            " 15  AIT503         946719 non-null  float64\n",
            " 16  AIT504         946719 non-null  float64\n",
            " 17  FIT501         946719 non-null  float64\n",
            " 18  FIT502         946719 non-null  float64\n",
            " 19  FIT503         946719 non-null  float64\n",
            " 20  FIT504         946719 non-null  float64\n",
            " 21  PIT501         946719 non-null  float64\n",
            " 22  PIT502         946719 non-null  float64\n",
            " 23  PIT503         946719 non-null  float64\n",
            " 24  FIT601         946719 non-null  float64\n",
            " 25  MV101_1        946719 non-null  float64\n",
            " 26  MV101_2        946719 non-null  float64\n",
            " 27  P101_2         946719 non-null  float64\n",
            " 28  P102_2         946719 non-null  float64\n",
            " 29  MV201_1        946719 non-null  float64\n",
            " 30  MV201_2        946719 non-null  float64\n",
            " 31  P201_2         946719 non-null  float64\n",
            " 32  P203_2         946719 non-null  float64\n",
            " 33  P204_2         946719 non-null  float64\n",
            " 34  P205_2         946719 non-null  float64\n",
            " 35  P206_2         946719 non-null  float64\n",
            " 36  MV301_1        946719 non-null  float64\n",
            " 37  MV301_2        946719 non-null  float64\n",
            " 38  MV302_1        946719 non-null  float64\n",
            " 39  MV302_2        946719 non-null  float64\n",
            " 40  MV303_1        946719 non-null  float64\n",
            " 41  MV303_2        946719 non-null  float64\n",
            " 42  MV304_1        946719 non-null  float64\n",
            " 43  MV304_2        946719 non-null  float64\n",
            " 44  P301_2         946719 non-null  float64\n",
            " 45  P302_2         946719 non-null  float64\n",
            " 46  P402_2         946719 non-null  float64\n",
            " 47  P403_2         946719 non-null  float64\n",
            " 48  UV401_2        946719 non-null  float64\n",
            " 49  P501_2         946719 non-null  float64\n",
            " 50  P602_2         946719 non-null  float64\n",
            " 51  Normal/Attack  946719 non-null  int64  \n",
            "dtypes: float64(51), int64(1)\n",
            "memory usage: 375.6 MB\n"
          ]
        }
      ],
      "source": [
        "preprocessed_data.info()"
      ]
    },
    {
      "cell_type": "markdown",
      "metadata": {},
      "source": [
        "# Training and Evaluation"
      ]
    },
    {
      "cell_type": "code",
      "execution_count": 36,
      "metadata": {},
      "outputs": [
        {
          "name": "stdout",
          "output_type": "stream",
          "text": [
            "Training Isolation Forest...\n",
            "Results for Isolation Forest:\n",
            "Accuracy: 0.9421581882710833\n",
            "Confusion Matrix:\n",
            "[[177436    934]\n",
            " [ 10018    956]]\n",
            "Classification Report:\n",
            "              precision    recall  f1-score   support\n",
            "\n",
            "           0       0.95      0.99      0.97    178370\n",
            "           1       0.51      0.09      0.15     10974\n",
            "\n",
            "    accuracy                           0.94    189344\n",
            "   macro avg       0.73      0.54      0.56    189344\n",
            "weighted avg       0.92      0.94      0.92    189344\n",
            "\n",
            "\n",
            "============================================================\n",
            "\n",
            "Training Random Forest...\n",
            "Results for Random Forest:\n",
            "Accuracy: 0.9998996535406456\n",
            "Confusion Matrix:\n",
            "[[178365      5]\n",
            " [    14  10960]]\n",
            "Classification Report:\n",
            "              precision    recall  f1-score   support\n",
            "\n",
            "           0       1.00      1.00      1.00    178370\n",
            "           1       1.00      1.00      1.00     10974\n",
            "\n",
            "    accuracy                           1.00    189344\n",
            "   macro avg       1.00      1.00      1.00    189344\n",
            "weighted avg       1.00      1.00      1.00    189344\n",
            "\n",
            "\n",
            "============================================================\n",
            "\n",
            "Training Local Outlier Factor...\n"
          ]
        },
        {
          "name": "stderr",
          "output_type": "stream",
          "text": [
            "c:\\Users\\shehr\\AppData\\Local\\Programs\\Python\\Python312\\Lib\\site-packages\\sklearn\\base.py:493: UserWarning: X does not have valid feature names, but LocalOutlierFactor was fitted with feature names\n",
            "  warnings.warn(\n"
          ]
        },
        {
          "name": "stdout",
          "output_type": "stream",
          "text": [
            "Results for Local Outlier Factor:\n",
            "Accuracy: 0.9342466621598783\n",
            "Confusion Matrix:\n",
            "[[176653   1717]\n",
            " [ 10733    241]]\n",
            "Classification Report:\n",
            "              precision    recall  f1-score   support\n",
            "\n",
            "           0       0.94      0.99      0.97    178370\n",
            "           1       0.12      0.02      0.04     10974\n",
            "\n",
            "    accuracy                           0.93    189344\n",
            "   macro avg       0.53      0.51      0.50    189344\n",
            "weighted avg       0.90      0.93      0.91    189344\n",
            "\n",
            "\n",
            "============================================================\n",
            "\n",
            "Training One-Class SVM...\n",
            "Results for One-Class SVM:\n",
            "Accuracy: 0.9391583572756464\n",
            "Confusion Matrix:\n",
            "[[177144   1226]\n",
            " [ 10294    680]]\n",
            "Classification Report:\n",
            "              precision    recall  f1-score   support\n",
            "\n",
            "           0       0.95      0.99      0.97    178370\n",
            "           1       0.36      0.06      0.11     10974\n",
            "\n",
            "    accuracy                           0.94    189344\n",
            "   macro avg       0.65      0.53      0.54    189344\n",
            "weighted avg       0.91      0.94      0.92    189344\n",
            "\n",
            "\n",
            "============================================================\n",
            "\n"
          ]
        }
      ],
      "source": [
        "from sklearn.ensemble import IsolationForest, RandomForestClassifier\n",
        "from sklearn.neighbors import LocalOutlierFactor\n",
        "from sklearn.svm import OneClassSVM\n",
        "from sklearn.metrics import accuracy_score, confusion_matrix, classification_report\n",
        "from sklearn.model_selection import train_test_split\n",
        "\n",
        "def evaluate_anomaly_detection_models(X_train, X_test, y_train, y_test):\n",
        "    models = {\n",
        "        'Isolation Forest': IsolationForest(n_estimators=100, max_samples='auto', contamination=0.01, \n",
        "                                            max_features=1.0, bootstrap=False, n_jobs=-1, random_state=42, verbose=0),\n",
        "        'Random Forest': RandomForestClassifier(n_estimators=100, random_state=42),\n",
        "        'Local Outlier Factor': LocalOutlierFactor(n_neighbors=20, contamination=0.01, novelty=True, n_jobs=-1),\n",
        "        'One-Class SVM': OneClassSVM(kernel='rbf', gamma='scale', nu=0.01)\n",
        "    }\n",
        "    \n",
        "    results = {}\n",
        "    \n",
        "    for model_name, model in models.items():\n",
        "        print(f\"Training {model_name}...\")\n",
        "        if model_name == 'Local Outlier Factor':  \n",
        "            model.fit(X_train)\n",
        "            predictions = model.predict(X_test)\n",
        "        else:\n",
        "            model.fit(X_train, y_train if model_name == 'Random Forest' else None)\n",
        "            predictions = model.predict(X_test)\n",
        "        \n",
        "        binary_predictions = [1 if pred == -1 else 0 for pred in predictions] if model_name != 'Random Forest' else predictions\n",
        "        true_labels = y_test\n",
        "        predicted_labels = binary_predictions\n",
        "\n",
        "        accuracy = accuracy_score(true_labels, predicted_labels)\n",
        "        confusion = confusion_matrix(true_labels, predicted_labels)\n",
        "        report = classification_report(true_labels, predicted_labels)\n",
        "        \n",
        "        results[model_name] = {\n",
        "            'accuracy': accuracy,\n",
        "            'confusion_matrix': confusion,\n",
        "            'classification_report': report\n",
        "        }\n",
        "        \n",
        "        print(f\"Results for {model_name}:\")\n",
        "        print(f\"Accuracy: {accuracy}\")\n",
        "        print(\"Confusion Matrix:\")\n",
        "        print(confusion)\n",
        "        print(\"Classification Report:\")\n",
        "        print(report)\n",
        "        print(\"\\n\" + \"=\"*60 + \"\\n\")\n",
        "    \n",
        "    return results\n",
        "\n",
        "\n",
        "X_sampled = preprocessed_data.drop(columns=['Normal/Attack'])\n",
        "y_sampled = preprocessed_data['Normal/Attack']\n",
        "\n",
        "X_train_s, X_test_s, y_train_s, y_test_s = train_test_split(X_sampled, y_sampled, test_size=0.2, random_state=42)\n",
        "\n",
        "\n",
        "results = evaluate_anomaly_detection_models(X_train_s, X_test_s, y_train_s, y_test_s)\n"
      ]
    }
  ],
  "metadata": {
    "accelerator": "GPU",
    "colab": {
      "gpuType": "T4",
      "provenance": []
    },
    "kernelspec": {
      "display_name": "Python 3",
      "name": "python3"
    },
    "language_info": {
      "codemirror_mode": {
        "name": "ipython",
        "version": 3
      },
      "file_extension": ".py",
      "mimetype": "text/x-python",
      "name": "python",
      "nbconvert_exporter": "python",
      "pygments_lexer": "ipython3",
      "version": "3.12.3"
    }
  },
  "nbformat": 4,
  "nbformat_minor": 0
}
